{
 "cells": [
  {
   "cell_type": "markdown",
   "metadata": {},
   "source": [
    "# Some Basic Python Commands and Functionalities"
   ]
  },
  {
   "cell_type": "code",
   "execution_count": 1,
   "metadata": {},
   "outputs": [],
   "source": [
    "# As one who mostly used Matlab in the past, I created this notepad based on the Python crash course in a\n",
    "# Udemy course I took, just to keep track of some of the key differences in the languages."
   ]
  },
  {
   "cell_type": "markdown",
   "metadata": {},
   "source": [
    "# Contents\n",
    "\n",
    "## Section 1: Mathematical Operations\n",
    "\n",
    "## Section 2: Strings\n",
    "### 2.1: Definition, Printing and Concatenation\n",
    "### 2.2: Grabbing Parts of a String\n",
    "### 2.3: Splitting Strings\n",
    "\n",
    "## Section 3: Lists, Dictionaries, Tuples and Sets\n",
    "### 3.1: Lists\n",
    "#### 3.1.1: Appending, Popping and Concatenating\n",
    "#### 3.1.2: Length and a Convenient Trick\n",
    "### 3.2: Dictionaries\n",
    "### 3.3: Tuples and Sets\n",
    "\n",
    "## Section 4: Booleans, If-Statements, For-Loops, and While-Loops\n",
    "### 4.1: Booleans\n",
    "### 4.2: Membership Booleans (\"in\")\n",
    "### 4.3: If, Elif and Else Statements\n",
    "### 4.4: Loops: For and While Loops\n",
    "\n",
    "## Section 5: Range, Tuple Unpacking and List Comprehension\n",
    "### 5.1: Range\n",
    "### 5.2: Tuple Unpacking\n",
    "### 5.3: List Comprehension\n",
    "\n",
    "## Section 6: Functions (Declaration, Mapping, Lambda Expressions and Filters)\n",
    "### 6.1: Defining Functions\n",
    "### 6.2: Mapping\n",
    "### 6.3 Lambda Expressions: Mapping and Filters\n",
    "\n",
    "## Section 7: Miscellany"
   ]
  },
  {
   "cell_type": "markdown",
   "metadata": {},
   "source": [
    "##  Section 1: Mathematical Operations"
   ]
  },
  {
   "cell_type": "code",
   "execution_count": 2,
   "metadata": {},
   "outputs": [
    {
     "data": {
      "text/plain": [
       "1024"
      ]
     },
     "execution_count": 2,
     "metadata": {},
     "output_type": "execute_result"
    }
   ],
   "source": [
    "# Exponentiation is given by \"**\"\n",
    "4**5"
   ]
  },
  {
   "cell_type": "code",
   "execution_count": 3,
   "metadata": {},
   "outputs": [
    {
     "name": "stdout",
     "output_type": "stream",
     "text": [
      "Binary Representation of 23: 0b10111\n",
      "Binary Representation of 9:   0b1001\n",
      "                               11110 \n",
      "\n",
      "Therefore, 23^9 =  30 because the binary representation of 30 is 0b11110\n"
     ]
    }
   ],
   "source": [
    "# The \"^\" symbol actually performs the bit-wise xor operation on integers (converting both integers to binary and creating a\n",
    "# new binary number by having a 1 in a position if and only if the two binary strings differ in those positions):\n",
    "print(\"Binary Representation of 23:\",bin(23))\n",
    "print(\"Binary Representation of 9:  \",bin(9))\n",
    "print(\" \" * 30, 11110, \"\\n\")\n",
    "print(\"Therefore, 23^9 = \", 23^9, \"because the binary representation of 30 is\",bin(30))"
   ]
  },
  {
   "cell_type": "code",
   "execution_count": 4,
   "metadata": {},
   "outputs": [
    {
     "name": "stdout",
     "output_type": "stream",
     "text": [
      "100 modulo 17 is given by 100%17, which gives  15\n"
     ]
    }
   ],
   "source": [
    "# Modulus: Taking the modulus of a number modulo n, with representative in {0,1,...,n}, is given by %n\n",
    "print(\"100 modulo 17 is given by 100%17, which gives \", 100%17)"
   ]
  },
  {
   "cell_type": "markdown",
   "metadata": {},
   "source": [
    "## Section 2: Strings"
   ]
  },
  {
   "cell_type": "markdown",
   "metadata": {},
   "source": [
    "### 2.1: Definition, Printing and Concatenation"
   ]
  },
  {
   "cell_type": "code",
   "execution_count": 5,
   "metadata": {},
   "outputs": [
    {
     "name": "stdout",
     "output_type": "stream",
     "text": [
      "Here is a string.\n",
      "Here is a string.\n"
     ]
    },
    {
     "data": {
      "text/plain": [
       "True"
      ]
     },
     "execution_count": 5,
     "metadata": {},
     "output_type": "execute_result"
    }
   ],
   "source": [
    "# Strings can be entered using single or double quotes:\n",
    "string1 = 'Here is a string.'\n",
    "string2 = \"Here is a string.\"\n",
    "print(string1)\n",
    "print(string2)\n",
    "# Both are equivalent:\n",
    "string1 == string2"
   ]
  },
  {
   "cell_type": "code",
   "execution_count": 6,
   "metadata": {},
   "outputs": [
    {
     "name": "stdout",
     "output_type": "stream",
     "text": [
      "Word 12.3 another... (yet another)\n"
     ]
    }
   ],
   "source": [
    "# One can print multiple \"things\" (strings, numbers, lists, etc.) together in a single print command, separating by commas:\n",
    "str1 = \"Word\"\n",
    "str2 = \"another...\"\n",
    "print(str1, 12.3, str2, \"(yet another)\")"
   ]
  },
  {
   "cell_type": "code",
   "execution_count": 7,
   "metadata": {},
   "outputs": [
    {
     "name": "stdout",
     "output_type": "stream",
     "text": [
      "('Word', 'another...')\n"
     ]
    }
   ],
   "source": [
    "# The comma allows for multiple outputs for print, but this just creates a tuple (we'll see these soon):\n",
    "strs1And2WithComma = str1,str2\n",
    "print(strs1And2WithComma)"
   ]
  },
  {
   "cell_type": "code",
   "execution_count": 8,
   "metadata": {},
   "outputs": [
    {
     "name": "stdout",
     "output_type": "stream",
     "text": [
      "Wordanother...\n"
     ]
    }
   ],
   "source": [
    "# Concatenation: To actually concatenate the strings, use \"+\"\n",
    "newString = str1 + str2\n",
    "print(newString)"
   ]
  },
  {
   "cell_type": "code",
   "execution_count": 9,
   "metadata": {},
   "outputs": [
    {
     "name": "stdout",
     "output_type": "stream",
     "text": [
      "Here is a number 3.14 and here is a string \"Apple\"\n",
      "Here is a number Apple and here is a string \"3.14\"\n"
     ]
    }
   ],
   "source": [
    "# In a print statement, if one wants to insert strings and numbers defined by variables, one does so by insertin \"{}\" in \n",
    "# the statement, then using .format() with the assignments in order in parentheses.\n",
    "number = 3.14\n",
    "string = \"Apple\"\n",
    "print('Here is a number {} and here is a string \"{}\"'.format(number,string))\n",
    "# The order is taken from left-to-right (so the order matters)\n",
    "print('Here is a number {} and here is a string \"{}\"'.format(string,number))"
   ]
  },
  {
   "cell_type": "code",
   "execution_count": 10,
   "metadata": {},
   "outputs": [
    {
     "name": "stdout",
     "output_type": "stream",
     "text": [
      "Here is a number 3.14 and here is a string \"Apple\"\n",
      "Here is a number 3.14 and here is a string \"Apple\"\n",
      "Here is a number 203 and here is a string \"created\"\n"
     ]
    }
   ],
   "source": [
    "# Note: it may be easier to read the print statement by assigning names to the curly braces (notice: the order doesn't \n",
    "# matter now since it's pinned down by the names):\n",
    "print('Here is a number {firstIns} and here is a string \"{secondIns}\"'.format(firstIns = number,secondIns = string))\n",
    "print('Here is a number {firstIns} and here is a string \"{secondIns}\"'.format(secondIns = string,firstIns = number))\n",
    "# The assignments can also be performed locally:\n",
    "print('Here is a number {firstIns} and here is a string \"{secondIns}\"'.format(firstIns = 203,secondIns = \"created\"))"
   ]
  },
  {
   "cell_type": "markdown",
   "metadata": {},
   "source": [
    "### 2.2: Grabbing Parts of a String"
   ]
  },
  {
   "cell_type": "code",
   "execution_count": 11,
   "metadata": {},
   "outputs": [
    {
     "name": "stdout",
     "output_type": "stream",
     "text": [
      "Here is a string to work with. Let's make it a bit longer. #strings #seeminglygratuitoustweets\n"
     ]
    }
   ],
   "source": [
    "# Let's define a string:\n",
    "s = \"Here is a string to work with. Let's make it a bit longer. #strings #seeminglygratuitoustweets\"\n",
    "print(s)"
   ]
  },
  {
   "cell_type": "code",
   "execution_count": 12,
   "metadata": {},
   "outputs": [
    {
     "data": {
      "text/plain": [
       "'e'"
      ]
     },
     "execution_count": 12,
     "metadata": {},
     "output_type": "execute_result"
    }
   ],
   "source": [
    "# One can grab from the string. Say we want the third character:\n",
    "s[3]"
   ]
  },
  {
   "cell_type": "code",
   "execution_count": 13,
   "metadata": {},
   "outputs": [
    {
     "data": {
      "text/plain": [
       "'H'"
      ]
     },
     "execution_count": 13,
     "metadata": {},
     "output_type": "execute_result"
    }
   ],
   "source": [
    "# Note: indexing in Python starts at zero. So the first character, which is H, is at index 0:\n",
    "s[0]"
   ]
  },
  {
   "cell_type": "code",
   "execution_count": 14,
   "metadata": {},
   "outputs": [
    {
     "data": {
      "text/plain": [
       "'e i'"
      ]
     },
     "execution_count": 14,
     "metadata": {},
     "output_type": "execute_result"
    }
   ],
   "source": [
    "# One can also grab \"slices\" of a string (i.e. a substring with indices in a range)\n",
    "s[3:6]\n",
    "# Note: for s[start:end], we extract the substring for all indices in the range [start,end) (we don't include the last!)"
   ]
  },
  {
   "cell_type": "code",
   "execution_count": 15,
   "metadata": {},
   "outputs": [
    {
     "data": {
      "text/plain": [
       "'Here is'"
      ]
     },
     "execution_count": 15,
     "metadata": {},
     "output_type": "execute_result"
    }
   ],
   "source": [
    "# There are open-ended slices. To take all indices up to and excluding n, one uses [:n]. For example,\n",
    "s[:7]"
   ]
  },
  {
   "cell_type": "code",
   "execution_count": 16,
   "metadata": {},
   "outputs": [
    {
     "data": {
      "text/plain": [
       "\"e is a string to work with. Let's make it a bit longer. #strings #seeminglygratuitoustweets\""
      ]
     },
     "execution_count": 16,
     "metadata": {},
     "output_type": "execute_result"
    }
   ],
   "source": [
    "# Conversely, one can use [n:] to take all indices from n (inclusive) onwards. For example,\n",
    "s[3:]"
   ]
  },
  {
   "cell_type": "markdown",
   "metadata": {},
   "source": [
    "### 2.3: Splitting Strings"
   ]
  },
  {
   "cell_type": "code",
   "execution_count": 17,
   "metadata": {},
   "outputs": [
    {
     "data": {
      "text/plain": [
       "['Here',\n",
       " 'is',\n",
       " 'a',\n",
       " 'string',\n",
       " 'to',\n",
       " 'work',\n",
       " 'with.',\n",
       " \"Let's\",\n",
       " 'make',\n",
       " 'it',\n",
       " 'a',\n",
       " 'bit',\n",
       " 'longer.',\n",
       " '#strings',\n",
       " '#seeminglygratuitoustweets']"
      ]
     },
     "execution_count": 17,
     "metadata": {},
     "output_type": "execute_result"
    }
   ],
   "source": [
    "# The \"method\" .split() will split a string by white spaces:\n",
    "s.split()\n",
    "# This actually produces a \"list\" of strings. Lists will be covered shortly, but this is really just an indexed collection of\n",
    "# strings that can be called by grabbing."
   ]
  },
  {
   "cell_type": "code",
   "execution_count": 18,
   "metadata": {},
   "outputs": [
    {
     "data": {
      "text/plain": [
       "'Here'"
      ]
     },
     "execution_count": 18,
     "metadata": {},
     "output_type": "execute_result"
    }
   ],
   "source": [
    "s.split()[0]\n",
    "# This picks out the first contiguous substring up to the first space"
   ]
  },
  {
   "cell_type": "code",
   "execution_count": 19,
   "metadata": {},
   "outputs": [
    {
     "data": {
      "text/plain": [
       "['is', 'a', 'string']"
      ]
     },
     "execution_count": 19,
     "metadata": {},
     "output_type": "execute_result"
    }
   ],
   "source": [
    "s.split()[1:4]\n",
    "# This returns the list of the second, third and fourth (indices 1, 2 and 3) of the split list"
   ]
  },
  {
   "cell_type": "code",
   "execution_count": 20,
   "metadata": {},
   "outputs": [
    {
     "data": {
      "text/plain": [
       "['Here is a string to work with',\n",
       " \" Let's make it a bit longer\",\n",
       " ' #strings #seeminglygratuitoustweets']"
      ]
     },
     "execution_count": 20,
     "metadata": {},
     "output_type": "execute_result"
    }
   ],
   "source": [
    "# We can also split on characters. For example, splitting on periods (\".\") splits up sentences:\n",
    "s.split(\".\")"
   ]
  },
  {
   "cell_type": "code",
   "execution_count": 21,
   "metadata": {},
   "outputs": [
    {
     "data": {
      "text/plain": [
       "['strings ', 'seeminglygratuitoustweets']"
      ]
     },
     "execution_count": 21,
     "metadata": {},
     "output_type": "execute_result"
    }
   ],
   "source": [
    "# One could also obtain the hashtags (assuming they all appear at the end):\n",
    "s.split(\"#\")[1:]"
   ]
  },
  {
   "cell_type": "markdown",
   "metadata": {},
   "source": [
    "# Section 3: Lists, Dictionaries, Tuples and Sets"
   ]
  },
  {
   "cell_type": "markdown",
   "metadata": {},
   "source": [
    "### 3.1: Lists"
   ]
  },
  {
   "cell_type": "code",
   "execution_count": 22,
   "metadata": {},
   "outputs": [],
   "source": [
    "# Format: enclosed in brackets and separated by commas"
   ]
  },
  {
   "cell_type": "code",
   "execution_count": 23,
   "metadata": {},
   "outputs": [
    {
     "name": "stdout",
     "output_type": "stream",
     "text": [
      "[1, 2, 3, 'word', 3.1, [1, 'a', 5, [1, 2, 3], 'xyz']]\n"
     ]
    }
   ],
   "source": [
    "l = [1,2,3,'word',3.1,[1,'a',5,[1,2,3],'xyz']]\n",
    "print(l)"
   ]
  },
  {
   "cell_type": "code",
   "execution_count": 24,
   "metadata": {},
   "outputs": [],
   "source": [
    "# We can grab elements in a similar way to strings:"
   ]
  },
  {
   "cell_type": "code",
   "execution_count": 25,
   "metadata": {},
   "outputs": [
    {
     "name": "stdout",
     "output_type": "stream",
     "text": [
      "1\n",
      "word\n",
      "[1, 'a', 5, [1, 2, 3], 'xyz']\n"
     ]
    }
   ],
   "source": [
    "print(l[0])\n",
    "print(l[3])\n",
    "print(l[5])"
   ]
  },
  {
   "cell_type": "code",
   "execution_count": 26,
   "metadata": {},
   "outputs": [
    {
     "name": "stdout",
     "output_type": "stream",
     "text": [
      "1\n",
      "a\n",
      "[1, 2, 3]\n"
     ]
    }
   ],
   "source": [
    "# Note: l[5] is a list. We can dive deeper (in index levels):\n",
    "print(l[5][0])\n",
    "print(l[5][1])\n",
    "print(l[5][3])"
   ]
  },
  {
   "cell_type": "code",
   "execution_count": 27,
   "metadata": {},
   "outputs": [
    {
     "data": {
      "text/plain": [
       "[1, 'a', 5, [1, 2, 3], 'xyz']"
      ]
     },
     "execution_count": 27,
     "metadata": {},
     "output_type": "execute_result"
    }
   ],
   "source": [
    "# A remark on indexing: negative indices can be used to traverse backwards. e.g l[-1] returns the last element of the list:\n",
    "l[-1]"
   ]
  },
  {
   "cell_type": "code",
   "execution_count": 28,
   "metadata": {},
   "outputs": [
    {
     "name": "stdout",
     "output_type": "stream",
     "text": [
      "Here's l:       [1, 2, 3, 'word', 3.1, [1, 'a', 5, [1, 2, 3], 'xyz']]\n",
      "Here's l[:5]:   [1, 2, 3, 'word', 3.1]\n",
      "Here's l[3:]:   ['word', 3.1, [1, 'a', 5, [1, 2, 3], 'xyz']]\n",
      "Here's l[2:4]:  [3, 'word']\n"
     ]
    }
   ],
   "source": [
    "# Slicing works the same way as for strings:\n",
    "print(\"Here's l:      \",l)\n",
    "print(\"Here's l[:5]:  \",l[:5])\n",
    "print(\"Here's l[3:]:  \",l[3:])\n",
    "print(\"Here's l[2:4]: \",l[2:4])"
   ]
  },
  {
   "cell_type": "markdown",
   "metadata": {},
   "source": [
    "#### 3.1.1: Appending, Popping and Concatenating"
   ]
  },
  {
   "cell_type": "code",
   "execution_count": 29,
   "metadata": {},
   "outputs": [
    {
     "name": "stdout",
     "output_type": "stream",
     "text": [
      "[0, 1, 2, 3, 4, 5, 6]\n"
     ]
    }
   ],
   "source": [
    "seqList = [0,1,2,3,4,5,6]\n",
    "print(seqList)"
   ]
  },
  {
   "cell_type": "code",
   "execution_count": 30,
   "metadata": {},
   "outputs": [
    {
     "name": "stdout",
     "output_type": "stream",
     "text": [
      "[0, 1, 2, 'something', 4, 5, 6]\n"
     ]
    }
   ],
   "source": [
    "# One can re-assign values as expected:\n",
    "seqList[3]='something'\n",
    "print(seqList)"
   ]
  },
  {
   "cell_type": "code",
   "execution_count": 31,
   "metadata": {},
   "outputs": [],
   "source": [
    "# We can also append to the list using the .append() method:\n",
    "seqList.append(12)"
   ]
  },
  {
   "cell_type": "code",
   "execution_count": 32,
   "metadata": {},
   "outputs": [
    {
     "name": "stdout",
     "output_type": "stream",
     "text": [
      "[0, 1, 2, 'something', 4, 5, 6, 12]\n"
     ]
    }
   ],
   "source": [
    "print(seqList)"
   ]
  },
  {
   "cell_type": "code",
   "execution_count": 33,
   "metadata": {},
   "outputs": [
    {
     "name": "stdout",
     "output_type": "stream",
     "text": [
      "[0, 1, 2, 'something', 4, 5, 6]\n"
     ]
    }
   ],
   "source": [
    "# Conversely, we can remove the last element using the .pop() method:\n",
    "seqList.pop()\n",
    "print(seqList)"
   ]
  },
  {
   "cell_type": "code",
   "execution_count": 34,
   "metadata": {},
   "outputs": [
    {
     "name": "stdout",
     "output_type": "stream",
     "text": [
      "[0, 1, 2, 4, 5, 6]\n"
     ]
    }
   ],
   "source": [
    "# By default, .pop() removes the last element. We can specify the index of what's to be removed with the parentheses. e.g.,\n",
    "seqList.pop(3)\n",
    "print(seqList)"
   ]
  },
  {
   "cell_type": "code",
   "execution_count": 35,
   "metadata": {},
   "outputs": [
    {
     "name": "stdout",
     "output_type": "stream",
     "text": [
      "[0, 1, 2, 4, 5, 6]\n",
      "['a', 'b', 'c']\n"
     ]
    },
    {
     "data": {
      "text/plain": [
       "[0, 1, 2, 4, 5, 6, 'a', 'b', 'c']"
      ]
     },
     "execution_count": 35,
     "metadata": {},
     "output_type": "execute_result"
    }
   ],
   "source": [
    "# Lists can be concatenated using +:\n",
    "newList = ['a','b','c']\n",
    "print(seqList)\n",
    "print(newList)\n",
    "seqList + newList"
   ]
  },
  {
   "cell_type": "code",
   "execution_count": 36,
   "metadata": {},
   "outputs": [
    {
     "data": {
      "text/plain": [
       "[0, 1, 2, 4, 5, 6, 0, 1, 2, 4, 5, 6, 0, 1, 2, 4, 5, 6]"
      ]
     },
     "execution_count": 36,
     "metadata": {},
     "output_type": "execute_result"
    }
   ],
   "source": [
    "# One can concatenate copies of a list using * n (this creates a list from n copies):\n",
    "seqList * 3"
   ]
  },
  {
   "cell_type": "code",
   "execution_count": 37,
   "metadata": {},
   "outputs": [
    {
     "data": {
      "text/plain": [
       "[0, 1, 2, 4, 5, 6, 0, 0, 0, 0, 0]"
      ]
     },
     "execution_count": 37,
     "metadata": {},
     "output_type": "execute_result"
    }
   ],
   "source": [
    "# This is particularly useful for inserting a certain number of zeroes, etc. e.g., let's add 5 zeroes to seqList:\n",
    "seqList + [0] * 5"
   ]
  },
  {
   "cell_type": "markdown",
   "metadata": {},
   "source": [
    "#### 3.1.2: Length and a Convenient Trick"
   ]
  },
  {
   "cell_type": "code",
   "execution_count": 38,
   "metadata": {},
   "outputs": [
    {
     "name": "stdout",
     "output_type": "stream",
     "text": [
      "[0, 1, 2, 4, 5, 6]\n"
     ]
    },
    {
     "data": {
      "text/plain": [
       "6"
      ]
     },
     "execution_count": 38,
     "metadata": {},
     "output_type": "execute_result"
    }
   ],
   "source": [
    "# The length of a list is found using len:\n",
    "print(seqList)\n",
    "len(seqList)"
   ]
  },
  {
   "cell_type": "code",
   "execution_count": 39,
   "metadata": {},
   "outputs": [
    {
     "data": {
      "text/plain": [
       "['here', 'are', 'some', 'words', 'to', 'form', 'a', 'list', 'of', 'strings']"
      ]
     },
     "execution_count": 39,
     "metadata": {},
     "output_type": "execute_result"
    }
   ],
   "source": [
    "# Nice trick: sometimes we want to create a list of strings (which can be somewhat fiddly (commas and quotation marks)).\n",
    "# The .split() method is particularly useful since we can just insert a character (usually space) between the items and\n",
    "# then split on the character. For example, instead of \n",
    "# ['here', 'are', 'some', 'words', 'to', 'form', 'a', 'list', 'of', 'strings'], we can  just type\n",
    "\"here are some words to form a list of strings\".split()"
   ]
  },
  {
   "cell_type": "markdown",
   "metadata": {},
   "source": [
    "### 3.2: Dictionaries"
   ]
  },
  {
   "cell_type": "code",
   "execution_count": 40,
   "metadata": {},
   "outputs": [],
   "source": [
    "# A set of key-value pairs (to be thought of as a set of values indexed by the keys)"
   ]
  },
  {
   "cell_type": "code",
   "execution_count": 41,
   "metadata": {},
   "outputs": [],
   "source": [
    "d = {'key 1': 'value 1', 'key 2': 'value 2', 'key 3': 'a string', 'key 4': 31.2, 12 : 3}"
   ]
  },
  {
   "cell_type": "code",
   "execution_count": 42,
   "metadata": {},
   "outputs": [
    {
     "name": "stdout",
     "output_type": "stream",
     "text": [
      "{'key 1': 'value 1', 'key 2': 'value 2', 'key 3': 'a string', 'key 4': 31.2, 12: 3}\n"
     ]
    }
   ],
   "source": [
    "print(d)"
   ]
  },
  {
   "cell_type": "code",
   "execution_count": 43,
   "metadata": {},
   "outputs": [],
   "source": [
    "# Now, to call from the dictionary: we don't have indices anymore, so we do so with the keys:"
   ]
  },
  {
   "cell_type": "code",
   "execution_count": 44,
   "metadata": {},
   "outputs": [
    {
     "data": {
      "text/plain": [
       "'value 1'"
      ]
     },
     "execution_count": 44,
     "metadata": {},
     "output_type": "execute_result"
    }
   ],
   "source": [
    "d['key 1']"
   ]
  },
  {
   "cell_type": "code",
   "execution_count": 45,
   "metadata": {},
   "outputs": [
    {
     "data": {
      "text/plain": [
       "'a string'"
      ]
     },
     "execution_count": 45,
     "metadata": {},
     "output_type": "execute_result"
    }
   ],
   "source": [
    "d['key 3']"
   ]
  },
  {
   "cell_type": "code",
   "execution_count": 46,
   "metadata": {},
   "outputs": [
    {
     "data": {
      "text/plain": [
       "3"
      ]
     },
     "execution_count": 46,
     "metadata": {},
     "output_type": "execute_result"
    }
   ],
   "source": [
    "d[12]"
   ]
  },
  {
   "cell_type": "code",
   "execution_count": 47,
   "metadata": {},
   "outputs": [],
   "source": [
    "# Nesting works the same way: one could have values be dictionaries themselves, or lists, or strings, and so on. "
   ]
  },
  {
   "cell_type": "markdown",
   "metadata": {},
   "source": [
    "### 3.3: Tuples and Sets"
   ]
  },
  {
   "cell_type": "code",
   "execution_count": 48,
   "metadata": {},
   "outputs": [],
   "source": [
    "# Tuples are like lists, but formed with parentheses (instead of square brackets). Tuples are IMMUTABLE! One cannot\n",
    "# reassign values in a tuple."
   ]
  },
  {
   "cell_type": "code",
   "execution_count": 49,
   "metadata": {},
   "outputs": [],
   "source": [
    "tup = (1,45,'abc',[1,2,3])"
   ]
  },
  {
   "cell_type": "code",
   "execution_count": 50,
   "metadata": {},
   "outputs": [
    {
     "name": "stdout",
     "output_type": "stream",
     "text": [
      "1\n",
      "45\n",
      "abc\n",
      "b\n",
      "[1, 2, 3]\n"
     ]
    }
   ],
   "source": [
    "print(tup[0])\n",
    "print(tup[1])\n",
    "print(tup[2])\n",
    "print(tup[2][1])\n",
    "print(tup[3])"
   ]
  },
  {
   "cell_type": "code",
   "execution_count": 51,
   "metadata": {},
   "outputs": [],
   "source": [
    "# Everything goes through as for lists, just can't change values. This goes for appending and popping (they cannot be done!)"
   ]
  },
  {
   "cell_type": "code",
   "execution_count": 52,
   "metadata": {},
   "outputs": [
    {
     "name": "stdout",
     "output_type": "stream",
     "text": [
      "{1, 2, 4, 6, 10}\n"
     ]
    }
   ],
   "source": [
    "# Sets are (unordered) collections of distinct objects. They are defined using curly braces (multiplicities vanish in the \n",
    "# process):\n",
    "set1 = {1,2,4,6,10,2,1,6}\n",
    "print(set1)"
   ]
  },
  {
   "cell_type": "code",
   "execution_count": 53,
   "metadata": {},
   "outputs": [
    {
     "data": {
      "text/plain": [
       "[1, 2, 4, 6, 10]"
      ]
     },
     "execution_count": 53,
     "metadata": {},
     "output_type": "execute_result"
    }
   ],
   "source": [
    "# They can be converted to lists using list():\n",
    "list(set1)"
   ]
  },
  {
   "cell_type": "code",
   "execution_count": 54,
   "metadata": {},
   "outputs": [
    {
     "data": {
      "text/plain": [
       "{1, 2, 'a'}"
      ]
     },
     "execution_count": 54,
     "metadata": {},
     "output_type": "execute_result"
    }
   ],
   "source": [
    "# The same works conversely:\n",
    "lis = [1,2,'a',1]\n",
    "set(lis)"
   ]
  },
  {
   "cell_type": "code",
   "execution_count": 55,
   "metadata": {},
   "outputs": [
    {
     "name": "stdout",
     "output_type": "stream",
     "text": [
      "{1, 2, 4, 5, 6, 10}\n"
     ]
    }
   ],
   "source": [
    "# To grow a set, one uses .add(), not .append():\n",
    "set1.add(5)\n",
    "print(set1)"
   ]
  },
  {
   "cell_type": "code",
   "execution_count": 56,
   "metadata": {},
   "outputs": [
    {
     "name": "stdout",
     "output_type": "stream",
     "text": [
      "{1, 2, 4, 5, 10}\n"
     ]
    }
   ],
   "source": [
    "# An element is removed using .remove():\n",
    "set1.remove(6)\n",
    "print(set1)"
   ]
  },
  {
   "cell_type": "markdown",
   "metadata": {},
   "source": [
    "## Section 4: Booleans, If-Statements, For-Loops, and While-Loops"
   ]
  },
  {
   "cell_type": "markdown",
   "metadata": {},
   "source": [
    "### 4.1: Booleans"
   ]
  },
  {
   "cell_type": "code",
   "execution_count": 57,
   "metadata": {},
   "outputs": [
    {
     "name": "stdout",
     "output_type": "stream",
     "text": [
      "1==2:  False\n",
      "1==1:  True\n",
      "1<2:   True\n",
      "1<1:   False\n",
      "1<=1:  True\n",
      "1>0:   True\n",
      "1>=2:  False\n"
     ]
    }
   ],
   "source": [
    "# The usual for equality and inequalities:\n",
    "print(\"1==2: \",1==2)\n",
    "print(\"1==1: \",1==1)\n",
    "print(\"1<2:  \",1<2)\n",
    "print(\"1<1:  \",1<1)\n",
    "print(\"1<=1: \",1<=1)\n",
    "print(\"1>0:  \",1>0)\n",
    "print(\"1>=2: \",1>=2)"
   ]
  },
  {
   "cell_type": "code",
   "execution_count": 58,
   "metadata": {},
   "outputs": [
    {
     "name": "stdout",
     "output_type": "stream",
     "text": [
      "1!=2:  True\n",
      "1!=1:  False\n"
     ]
    }
   ],
   "source": [
    "# \"Not equal\" is given by \"!=\":\n",
    "print(\"1!=2: \",1!=2)\n",
    "print(\"1!=1: \",1!=1)"
   ]
  },
  {
   "cell_type": "code",
   "execution_count": 59,
   "metadata": {},
   "outputs": [
    {
     "name": "stdout",
     "output_type": "stream",
     "text": [
      "True and True:    True\n",
      "True and False:   False\n",
      "False and False:  False\n",
      "True or True:     True\n",
      "True or False:    True\n",
      "False or False:   True\n"
     ]
    }
   ],
   "source": [
    "# One can perform the usual and, or operations on Booleans using \"and\" or \"or\":\n",
    "print(\"True and True:   \",True and True)\n",
    "print(\"True and False:  \",True and False)\n",
    "print(\"False and False: \",False and True)\n",
    "print(\"True or True:    \",True or True)\n",
    "print(\"True or False:   \",True or False)\n",
    "print(\"False or False:  \",False or True)\n",
    "# This only works on singular Booleans (for Boolean arrays, when we use Numpy, we need to use \"&\" and \"|\")"
   ]
  },
  {
   "cell_type": "code",
   "execution_count": 60,
   "metadata": {},
   "outputs": [
    {
     "name": "stdout",
     "output_type": "stream",
     "text": [
      "True & False:  False\n",
      "True | False:  True\n",
      "False ^ True:  True\n",
      "True ^ True:   False\n"
     ]
    }
   ],
   "source": [
    "# The above can be done with \"&\", \"|\" and \"^\" (the last is for XOR)\n",
    "print(\"True & False: \",True & False)\n",
    "print(\"True | False: \",True | False)\n",
    "print(\"False ^ True: \",False ^ True)\n",
    "print(\"True ^ True:  \",True ^ True)"
   ]
  },
  {
   "cell_type": "markdown",
   "metadata": {},
   "source": [
    "### 4.2: Membership Booleans"
   ]
  },
  {
   "cell_type": "code",
   "execution_count": 61,
   "metadata": {},
   "outputs": [
    {
     "name": "stdout",
     "output_type": "stream",
     "text": [
      "True\n",
      "True\n",
      "False\n",
      "True\n"
     ]
    }
   ],
   "source": [
    "# \"in\" check for membership in a list (or set, etc.)\n",
    "lis = [1, 2, \"a\", [1,2], \"xy\"]\n",
    "print(2 in lis)\n",
    "print(\"a\" in lis)\n",
    "print(\"b\" in lis)\n",
    "print([1,2] in lis)"
   ]
  },
  {
   "cell_type": "markdown",
   "metadata": {},
   "source": [
    "### 4.3: If, Elif and Else Statements"
   ]
  },
  {
   "cell_type": "code",
   "execution_count": 62,
   "metadata": {},
   "outputs": [],
   "source": [
    "# Format:\n",
    "# if [boolean]:\n",
    "#     [code to perform]\n",
    "# elif [boolean]:\n",
    "#     [code to perform]\n",
    "# elif [boolean]:\n",
    "#     [code to perform]\n",
    "# ...\n",
    "# else:\n",
    "#     [code to perform]"
   ]
  },
  {
   "cell_type": "code",
   "execution_count": 63,
   "metadata": {},
   "outputs": [
    {
     "name": "stdout",
     "output_type": "stream",
     "text": [
      "num2 is greater than num1\n"
     ]
    }
   ],
   "source": [
    "# Example 1:\n",
    "num1 = 1\n",
    "num2 = 2\n",
    "if num1>num2:\n",
    "    print(\"num1 is greater than num2\")\n",
    "elif num2>num1:\n",
    "    print(\"num2 is greater than num1\")\n",
    "else:\n",
    "    print(\"num1 and num2 are equal\")"
   ]
  },
  {
   "cell_type": "code",
   "execution_count": 64,
   "metadata": {},
   "outputs": [
    {
     "name": "stdout",
     "output_type": "stream",
     "text": [
      "num1 is greater than num2\n"
     ]
    }
   ],
   "source": [
    "# Example 2:\n",
    "num1 = 3\n",
    "num2 = 2\n",
    "if num1>num2:\n",
    "    print(\"num1 is greater than num2\")\n",
    "elif num2>num1:\n",
    "    print(\"num2 is greater than num1\")\n",
    "else:\n",
    "    print(\"num1 and num2 are equal\")"
   ]
  },
  {
   "cell_type": "code",
   "execution_count": 65,
   "metadata": {},
   "outputs": [
    {
     "name": "stdout",
     "output_type": "stream",
     "text": [
      "num1 and num2 are equal\n"
     ]
    }
   ],
   "source": [
    "# Example 1:\n",
    "num1 = 2\n",
    "num2 = 2\n",
    "if num1>num2:\n",
    "    print(\"num1 is greater than num2\")\n",
    "elif num2>num1:\n",
    "    print(\"num2 is greater than num1\")\n",
    "else:\n",
    "    print(\"num1 and num2 are equal\")"
   ]
  },
  {
   "cell_type": "code",
   "execution_count": 66,
   "metadata": {},
   "outputs": [
    {
     "name": "stdout",
     "output_type": "stream",
     "text": [
      "3\n"
     ]
    }
   ],
   "source": [
    "# An efficient if-else variable assignment:\n",
    "var = 0 if 1<0 else 3\n",
    "print(var)\n",
    "# This accomplishes the same as the following:\n",
    "# if 1<0:\n",
    "#     var = 0\n",
    "# else:\n",
    "#     var = 3"
   ]
  },
  {
   "cell_type": "markdown",
   "metadata": {},
   "source": [
    "### 4.4: Loops: For and While Loops"
   ]
  },
  {
   "cell_type": "code",
   "execution_count": 67,
   "metadata": {},
   "outputs": [],
   "source": [
    "# For-Loops have the format:\n",
    "# for [dummy name] in [set/list/tuple]:\n",
    "#     [code to implement]"
   ]
  },
  {
   "cell_type": "code",
   "execution_count": 68,
   "metadata": {},
   "outputs": [
    {
     "name": "stdout",
     "output_type": "stream",
     "text": [
      "set for-loop:  1\n",
      "set for-loop:  (1, 2)\n",
      "set for-loop:  3\n",
      "set for-loop:  6\n",
      "\n",
      "\n",
      "list for-loop:  1\n",
      "list for-loop:  1a3\n",
      "list for-loop:  [1, 2, 3]\n",
      "\n",
      "\n",
      "tuple for-loop:  3\n",
      "tuple for-loop:  1\n",
      "tuple for-loop:  3\n",
      "tuple for-loop:  [1, 2]\n",
      "tuple for-loop:  1\n"
     ]
    }
   ],
   "source": [
    "setEx = {3,1,3,6,(1,2)}\n",
    "for item in setEx:\n",
    "    print(\"set for-loop: \",item)\n",
    "print(\"\\n\")\n",
    "# Note/recall: sets don't allow for multiplicities, nor do they keep your ordering\n",
    "\n",
    "listEx = [1,'1a3',[1,2,3]]\n",
    "for item in listEx:\n",
    "    print(\"list for-loop: \",item)\n",
    "print(\"\\n\")\n",
    "    \n",
    "tupleEx = (3,1,3,[1,2],1)\n",
    "for item in tupleEx:\n",
    "    print(\"tuple for-loop: \",item)"
   ]
  },
  {
   "cell_type": "code",
   "execution_count": 69,
   "metadata": {},
   "outputs": [],
   "source": [
    "# While-Loops have the format:\n",
    "# while [boolean]:\n",
    "#     [code to implement]"
   ]
  },
  {
   "cell_type": "code",
   "execution_count": 70,
   "metadata": {},
   "outputs": [
    {
     "name": "stdout",
     "output_type": "stream",
     "text": [
      "0\n",
      "1\n",
      "2\n",
      "3\n",
      "4\n",
      "5\n",
      "6\n",
      "7\n",
      "8\n",
      "9\n"
     ]
    }
   ],
   "source": [
    "ind = 0\n",
    "while ind < 10:\n",
    "    print(ind)\n",
    "    ind += 1"
   ]
  },
  {
   "cell_type": "code",
   "execution_count": 71,
   "metadata": {},
   "outputs": [
    {
     "name": "stdout",
     "output_type": "stream",
     "text": [
      "[2, 3, 4, 5, 7, 9, 11, 13, 17, 19, 23, 25, 29, 31, 37, 41, 43, 47, 49, 53, 59, 61, 67, 71, 73, 79, 83, 89, 97, 101, 103, 107]\n"
     ]
    }
   ],
   "source": [
    "# Let's put these together in a prime searcher (we'll find the first \"number\"-many primes and put them in a list)\n",
    "import math   # This is to be able to use the sqrt function.\n",
    "number = 32\n",
    "count = 0\n",
    "current = 2\n",
    "primes = []\n",
    "while count < number:\n",
    "    check = 1\n",
    "    for prime in primes:\n",
    "        if prime < math.sqrt(current):\n",
    "            if current % prime == 0:\n",
    "                check =0\n",
    "    if check == 1:\n",
    "        primes.append(current)\n",
    "        count += 1\n",
    "    current += 1\n",
    "print(primes)"
   ]
  },
  {
   "cell_type": "markdown",
   "metadata": {},
   "source": [
    "## Section 5: Range, Tuple Unpacking and List Comprehension"
   ]
  },
  {
   "cell_type": "markdown",
   "metadata": {},
   "source": [
    "### 5.1: Range"
   ]
  },
  {
   "cell_type": "code",
   "execution_count": 72,
   "metadata": {},
   "outputs": [],
   "source": [
    "# Python has a range function: range(start,end,step) produces a range of values starting at \"start\", taking steps of \"step\", \n",
    "# and going up to, but not including, \"end\". "
   ]
  },
  {
   "cell_type": "code",
   "execution_count": 73,
   "metadata": {},
   "outputs": [
    {
     "data": {
      "text/plain": [
       "range(0, 10, 2)"
      ]
     },
     "execution_count": 73,
     "metadata": {},
     "output_type": "execute_result"
    }
   ],
   "source": [
    "range(0,10,2)"
   ]
  },
  {
   "cell_type": "code",
   "execution_count": 74,
   "metadata": {},
   "outputs": [
    {
     "data": {
      "text/plain": [
       "[0, 2, 4, 6, 8]"
      ]
     },
     "execution_count": 74,
     "metadata": {},
     "output_type": "execute_result"
    }
   ],
   "source": [
    "# We can convert this to a list to see what's actually in it:\n",
    "list(range(0,10,2))"
   ]
  },
  {
   "cell_type": "code",
   "execution_count": 75,
   "metadata": {},
   "outputs": [
    {
     "data": {
      "text/plain": [
       "{0, 2, 4, 6, 8}"
      ]
     },
     "execution_count": 75,
     "metadata": {},
     "output_type": "execute_result"
    }
   ],
   "source": [
    "# Similarly, a set:\n",
    "set(range(0,10,2))"
   ]
  },
  {
   "cell_type": "code",
   "execution_count": 76,
   "metadata": {},
   "outputs": [
    {
     "name": "stdout",
     "output_type": "stream",
     "text": [
      "The number at index  0  in range(0,10,3) is 0\n",
      "The number at index  1  in range(0,10,3) is 3\n",
      "The number at index  2  in range(0,10,3) is 6\n",
      "The number at index  3  in range(0,10,3) is 9\n"
     ]
    }
   ],
   "source": [
    "# This is useful for for-loops. For example:\n",
    "count = 0\n",
    "for num in range(0,10,3):\n",
    "    print(\"The number at index \",count,\" in range(0,10,3) is\", num)\n",
    "    count += 1"
   ]
  },
  {
   "cell_type": "code",
   "execution_count": 77,
   "metadata": {},
   "outputs": [
    {
     "data": {
      "text/plain": [
       "[(0, 0), (1, 3), (2, 6), (3, 9)]"
      ]
     },
     "execution_count": 77,
     "metadata": {},
     "output_type": "execute_result"
    }
   ],
   "source": [
    "# Now is as good an opportunity to introduce the \"enumerate\" function that creates tuples whose first entry is the index of \n",
    "# an item in an object, and whose second index is the item. In the above example, we can do this for range(0,10,3):\n",
    "list(enumerate(range(0,10,3)))"
   ]
  },
  {
   "cell_type": "markdown",
   "metadata": {},
   "source": [
    "### 5.2: Tuple Unpacking"
   ]
  },
  {
   "cell_type": "code",
   "execution_count": 78,
   "metadata": {},
   "outputs": [],
   "source": [
    "# We can take in a set, list, etc., as the range for a for-loop and perform so-called \"tuple unpacking\". This is really\n",
    "# just a way of allowing one to range over each tuple, but actually over the contents of the tuples."
   ]
  },
  {
   "cell_type": "code",
   "execution_count": 79,
   "metadata": {},
   "outputs": [
    {
     "name": "stdout",
     "output_type": "stream",
     "text": [
      "The number at index  0  in range(0,10,3) is 0\n",
      "The number at index  1  in range(0,10,3) is 3\n",
      "The number at index  2  in range(0,10,3) is 6\n",
      "The number at index  3  in range(0,10,3) is 9\n"
     ]
    }
   ],
   "source": [
    "# Let's see how this cleans up the previous example:\n",
    "for ind, num in enumerate(range(0,10,3)):\n",
    "    print(\"The number at index \",ind,\" in range(0,10,3) is\", num)"
   ]
  },
  {
   "cell_type": "code",
   "execution_count": 80,
   "metadata": {},
   "outputs": [
    {
     "name": "stdout",
     "output_type": "stream",
     "text": [
      "The number at index  0  in range(0,10,3) is 0\n",
      "The number at index  1  in range(0,10,3) is 3\n",
      "The number at index  2  in range(0,10,3) is 6\n",
      "The number at index  3  in range(0,10,3) is 9\n"
     ]
    }
   ],
   "source": [
    "# This can even be put in one line:\n",
    "for ind, num in enumerate(range(0,10,3)): print(\"The number at index \",ind,\" in range(0,10,3) is\", num)"
   ]
  },
  {
   "cell_type": "markdown",
   "metadata": {},
   "source": [
    "### 5.3: List Comprehension"
   ]
  },
  {
   "cell_type": "code",
   "execution_count": 81,
   "metadata": {},
   "outputs": [],
   "source": [
    "# List comprehension is a useful shorthand for building a list via for-loops. One declares the list as follows:\n",
    "# [[what to do to each entry in some base list] for [dummy variable] in [name of base list]]"
   ]
  },
  {
   "cell_type": "code",
   "execution_count": 82,
   "metadata": {},
   "outputs": [
    {
     "name": "stdout",
     "output_type": "stream",
     "text": [
      "[4, 11, 30, 67, 128, 219, 346]\n"
     ]
    }
   ],
   "source": [
    "# Example:\n",
    "baseList = [1,2,3,4,5,6,7]\n",
    "newList = [num ** 3 + 3 for num in baseList]\n",
    "print(newList)\n",
    "# We've created a new list by squaring and adding three to each number in the base list."
   ]
  },
  {
   "cell_type": "code",
   "execution_count": 83,
   "metadata": {},
   "outputs": [
    {
     "name": "stdout",
     "output_type": "stream",
     "text": [
      "[4, 11, 30, 67, 128, 219, 346]\n"
     ]
    }
   ],
   "source": [
    "# This is much shorter to write than:\n",
    "baseList = [1,2,3,4,5,6,7]\n",
    "newList = []\n",
    "for num in baseList:\n",
    "    newList.append(num ** 3 + 3)\n",
    "print(newList)"
   ]
  },
  {
   "cell_type": "code",
   "execution_count": 84,
   "metadata": {},
   "outputs": [],
   "source": [
    "# We can do this using \"mapping\", which we'll see shortly in Section 6 (on functions)"
   ]
  },
  {
   "cell_type": "markdown",
   "metadata": {},
   "source": [
    "## Section 6: Functions (Declaration, Mapping, Lambda Expressions and Filters)"
   ]
  },
  {
   "cell_type": "markdown",
   "metadata": {},
   "source": [
    "### 6.1: Defining Functions"
   ]
  },
  {
   "cell_type": "code",
   "execution_count": 85,
   "metadata": {},
   "outputs": [],
   "source": [
    "# Declared using \"def\". Here's the general format:\n",
    "\n",
    "# def [function name]([arguments]):\n",
    "#     [code]\n",
    "#   return [what to return] # This is optional: the function needn't actually return anything."
   ]
  },
  {
   "cell_type": "code",
   "execution_count": 86,
   "metadata": {},
   "outputs": [
    {
     "name": "stdout",
     "output_type": "stream",
     "text": [
      "Hello, Fermat.\n"
     ]
    }
   ],
   "source": [
    "# Example:\n",
    "def sayHello(name):\n",
    "    print(\"Hello, \"+name+\".\")\n",
    "\n",
    "sayHello(\"Fermat\")"
   ]
  },
  {
   "cell_type": "code",
   "execution_count": 87,
   "metadata": {},
   "outputs": [
    {
     "data": {
      "text/plain": [
       "30"
      ]
     },
     "execution_count": 87,
     "metadata": {},
     "output_type": "execute_result"
    }
   ],
   "source": [
    "# Another example:\n",
    "def poly(num):\n",
    "    \"\"\"\n",
    "    Here's some documentation for this function. This function will cube the given number, then add three.\n",
    "    \n",
    "    We can say more things.\n",
    "    Or not...\n",
    "    \"\"\"\n",
    "    return num ** 3 + 3\n",
    "\n",
    "poly(3)"
   ]
  },
  {
   "cell_type": "code",
   "execution_count": 88,
   "metadata": {},
   "outputs": [],
   "source": [
    "# In the above example, we included some documentation for the function. To access this, type the function name in \n",
    "# the Jupyter notebook, then press [shift + tab].\n",
    "\n",
    "# For our example, here's what shows up:\n",
    "\n",
    "# Signature: poly(num)\n",
    "# Docstring:\n",
    "# Here's some documentation for this function. This function will cube the given number, then add three.\n",
    "\n",
    "# We can say more things.\n",
    "# Or not...\n",
    "# File:      [file location is in here...]\n",
    "# Type:      function"
   ]
  },
  {
   "cell_type": "markdown",
   "metadata": {},
   "source": [
    "### 6.2: Mapping"
   ]
  },
  {
   "cell_type": "code",
   "execution_count": 89,
   "metadata": {},
   "outputs": [],
   "source": [
    "# One can use \"mapping\" to apply a functionb to all entries of a list. The format is map(function,list)."
   ]
  },
  {
   "cell_type": "code",
   "execution_count": 90,
   "metadata": {},
   "outputs": [
    {
     "data": {
      "text/plain": [
       "[4, 11, 30, 67, 128, 219, 346]"
      ]
     },
     "execution_count": 90,
     "metadata": {},
     "output_type": "execute_result"
    }
   ],
   "source": [
    "# In the earlier example (in 6.1), we defined the function \"poly\" that is p(x) = x^3 + 3, and we applied this to each\n",
    "# number in baseList = [1,2,3,4,5,6,7]. We can do this via mapping:\n",
    "\n",
    "list(map(poly,baseList))\n",
    "\n",
    "# we then converted the map to a list to see the entries."
   ]
  },
  {
   "cell_type": "markdown",
   "metadata": {},
   "source": [
    "### 6.3 Lambda Expressions: Mapping and Filters"
   ]
  },
  {
   "cell_type": "code",
   "execution_count": 91,
   "metadata": {},
   "outputs": [
    {
     "data": {
      "text/plain": [
       "<function __main__.<lambda>(x, y)>"
      ]
     },
     "execution_count": 91,
     "metadata": {},
     "output_type": "execute_result"
    }
   ],
   "source": [
    "# One can define anonymous functions by not giving them a name. This is called a \"lambda expression\". \n",
    "# The format:\n",
    "# lambda [arguments]: [what to do to the arguments].\n",
    "\n",
    "# For example:\n",
    "lambda x,y : x*y+x+y**2"
   ]
  },
  {
   "cell_type": "code",
   "execution_count": 92,
   "metadata": {},
   "outputs": [],
   "source": [
    "# We can't actually do anything with this as is, but if we chose to give it a name:\n",
    "fun = lambda x,y : x*y+x+y**2"
   ]
  },
  {
   "cell_type": "code",
   "execution_count": 93,
   "metadata": {},
   "outputs": [
    {
     "data": {
      "text/plain": [
       "17"
      ]
     },
     "execution_count": 93,
     "metadata": {},
     "output_type": "execute_result"
    }
   ],
   "source": [
    "# Then we have defined a function:\n",
    "fun(2,3)\n",
    "# 6+2+9 = 17"
   ]
  },
  {
   "cell_type": "code",
   "execution_count": 94,
   "metadata": {},
   "outputs": [
    {
     "data": {
      "text/plain": [
       "[4, 11, 30, 67, 128, 219, 346]"
      ]
     },
     "execution_count": 94,
     "metadata": {},
     "output_type": "execute_result"
    }
   ],
   "source": [
    "# The real point is to define functions locally. In our favourite example, applying poly to baseList, we needn't have taken\n",
    "# up memory with the function \"poly\", if that was its sole purpose. We can map without defining poly:\n",
    "list(map(lambda num: num ** 3 + 3, baseList))"
   ]
  },
  {
   "cell_type": "code",
   "execution_count": 95,
   "metadata": {},
   "outputs": [],
   "source": [
    "# FILTERS: we can filter a list using a boolean. i.e., we can return a new list comprised of precisely the elements for\n",
    "# which the boolean is true.\n",
    "# We'll do so using lambda expressions. The format is:\n",
    "# filter(lambda [var]: [boolean expression in terms of \"var\"], [list to apply to])\n",
    "\n",
    "# If we want a list, we feed this into list()."
   ]
  },
  {
   "cell_type": "code",
   "execution_count": 96,
   "metadata": {},
   "outputs": [
    {
     "data": {
      "text/plain": [
       "[1, 7, 9, 13, 19]"
      ]
     },
     "execution_count": 96,
     "metadata": {},
     "output_type": "execute_result"
    }
   ],
   "source": [
    "# Let's extract all odd numbers from the list\n",
    "seq = [1,2,6,7,8,9,12,13,14,18,19]\n",
    "list(filter(lambda num: num%2 != 0, seq))"
   ]
  },
  {
   "cell_type": "markdown",
   "metadata": {},
   "source": [
    "## Section 7: Miscellany"
   ]
  },
  {
   "cell_type": "markdown",
   "metadata": {},
   "source": [
    "### 7.1: Some Useful Methods"
   ]
  },
  {
   "cell_type": "code",
   "execution_count": 97,
   "metadata": {},
   "outputs": [],
   "source": [
    "# Here is a string:\n",
    "string = \"Hello, my name is Jonathan.\""
   ]
  },
  {
   "cell_type": "code",
   "execution_count": 98,
   "metadata": {},
   "outputs": [
    {
     "data": {
      "text/plain": [
       "'hello, my name is jonathan.'"
      ]
     },
     "execution_count": 98,
     "metadata": {},
     "output_type": "execute_result"
    }
   ],
   "source": [
    "# We can use the .lower() method to make everything lower case:\n",
    "string.lower()"
   ]
  },
  {
   "cell_type": "code",
   "execution_count": 99,
   "metadata": {},
   "outputs": [
    {
     "data": {
      "text/plain": [
       "'HELLO, MY NAME IS JONATHAN.'"
      ]
     },
     "execution_count": 99,
     "metadata": {},
     "output_type": "execute_result"
    }
   ],
   "source": [
    "# Similarly for .upper():\n",
    "string.upper()"
   ]
  },
  {
   "cell_type": "code",
   "execution_count": 100,
   "metadata": {},
   "outputs": [
    {
     "name": "stdout",
     "output_type": "stream",
     "text": [
      "{'key 1': 'value 1', 'key 2': 'value 2', 'key 3': 'value 3'}\n"
     ]
    }
   ],
   "source": [
    "# Here is a dictionary:\n",
    "dic = {\"key 1\": \"value 1\", \"key 2\": \"value 2\", \"key 3\": \"value 3\"}\n",
    "print(dic)"
   ]
  },
  {
   "cell_type": "code",
   "execution_count": 101,
   "metadata": {},
   "outputs": [
    {
     "data": {
      "text/plain": [
       "dict_keys(['key 1', 'key 2', 'key 3'])"
      ]
     },
     "execution_count": 101,
     "metadata": {},
     "output_type": "execute_result"
    }
   ],
   "source": [
    "# The .keys() method returns the keys of a dictionary:\n",
    "dic.keys()"
   ]
  },
  {
   "cell_type": "code",
   "execution_count": 102,
   "metadata": {},
   "outputs": [
    {
     "data": {
      "text/plain": [
       "dict_items([('key 1', 'value 1'), ('key 2', 'value 2'), ('key 3', 'value 3')])"
      ]
     },
     "execution_count": 102,
     "metadata": {},
     "output_type": "execute_result"
    }
   ],
   "source": [
    "# The .items() method return all key-value pairs (2-tuples):\n",
    "dic.items()"
   ]
  },
  {
   "cell_type": "code",
   "execution_count": 103,
   "metadata": {},
   "outputs": [
    {
     "data": {
      "text/plain": [
       "('key 2', 'value 2')"
      ]
     },
     "execution_count": 103,
     "metadata": {},
     "output_type": "execute_result"
    }
   ],
   "source": [
    "# We can convert this to a list and call out various pairs by index:\n",
    "list(dic.items())[1]"
   ]
  },
  {
   "cell_type": "code",
   "execution_count": 104,
   "metadata": {},
   "outputs": [
    {
     "data": {
      "text/plain": [
       "dict_values(['value 1', 'value 2', 'value 3'])"
      ]
     },
     "execution_count": 104,
     "metadata": {},
     "output_type": "execute_result"
    }
   ],
   "source": [
    "# The .values() method returns all values:\n",
    "dic.values()"
   ]
  }
 ],
 "metadata": {
  "kernelspec": {
   "display_name": "Python 3",
   "language": "python",
   "name": "python3"
  },
  "language_info": {
   "codemirror_mode": {
    "name": "ipython",
    "version": 3
   },
   "file_extension": ".py",
   "mimetype": "text/x-python",
   "name": "python",
   "nbconvert_exporter": "python",
   "pygments_lexer": "ipython3",
   "version": "3.8.3"
  }
 },
 "nbformat": 4,
 "nbformat_minor": 4
}
