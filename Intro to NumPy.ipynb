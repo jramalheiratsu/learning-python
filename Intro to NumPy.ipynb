{
 "cells": [
  {
   "cell_type": "markdown",
   "metadata": {},
   "source": [
    "# The Basics of NumPy (with a view towards Pandas)"
   ]
  },
  {
   "cell_type": "code",
   "execution_count": 1,
   "metadata": {},
   "outputs": [],
   "source": [
    "# Still following the Udemy course I'm taking, these are my personal notes for future reference on key features of NumPy."
   ]
  },
  {
   "cell_type": "code",
   "execution_count": 2,
   "metadata": {},
   "outputs": [],
   "source": [
    "import numpy as np       # This imports numpy. We call on its tools using np."
   ]
  },
  {
   "cell_type": "markdown",
   "metadata": {},
   "source": [
    "## Contents\n",
    "\n",
    "### Section 1: Vectors and Matrices\n",
    "#### 1.1: Construction via Lists\n",
    "#### 1.2: Calling from an Array\n",
    "#### 1.3: Arange and Linspace\n",
    "#### 1.4: Constant Arrays\n",
    "#### 1.5: Identity Matrix\n",
    "\n",
    "### Section 2: Random Matrices\n",
    "\n",
    "### Section 3: Methods and Operations on Matrices\n",
    "#### 3.1: Reshape, Max/Min, Argmax/Argmin, Shape, dType, Standard Deviation, and Mean\n",
    "#### 3.2: Matrix Operations\n",
    "\n",
    "### Section 4: Working with Slices\n"
   ]
  },
  {
   "cell_type": "code",
   "execution_count": null,
   "metadata": {},
   "outputs": [],
   "source": []
  },
  {
   "cell_type": "markdown",
   "metadata": {},
   "source": [
    "### Section 1: Vectors and Matrices"
   ]
  },
  {
   "cell_type": "markdown",
   "metadata": {},
   "source": [
    "#### 1.1: Construction via Lists"
   ]
  },
  {
   "cell_type": "code",
   "execution_count": 3,
   "metadata": {},
   "outputs": [],
   "source": [
    "# We can create vectors by casting lists as arrays"
   ]
  },
  {
   "cell_type": "code",
   "execution_count": 4,
   "metadata": {},
   "outputs": [
    {
     "name": "stdout",
     "output_type": "stream",
     "text": [
      "Here's our array: [1 2 3]\n"
     ]
    }
   ],
   "source": [
    "lst = [1,2,3]\n",
    "arr = np.array(lst)\n",
    "print(\"Here's our array:\",arr)"
   ]
  },
  {
   "cell_type": "code",
   "execution_count": 5,
   "metadata": {},
   "outputs": [
    {
     "name": "stdout",
     "output_type": "stream",
     "text": [
      "[1 2]\n"
     ]
    }
   ],
   "source": [
    "# We can call and grab slices just as with lists:\n",
    "print(arr[0:2])"
   ]
  },
  {
   "cell_type": "code",
   "execution_count": 6,
   "metadata": {},
   "outputs": [
    {
     "name": "stdout",
     "output_type": "stream",
     "text": [
      "[[1 2 3]\n",
      " [4 5 6]\n",
      " [7 8 9]]\n"
     ]
    }
   ],
   "source": [
    "# For matrices, we just feed in a list of lists:\n",
    "lstlsts = [[1,2,3],[4,5,6],[7,8,9]]\n",
    "mat = np.array(lstlsts)\n",
    "print(mat)"
   ]
  },
  {
   "cell_type": "markdown",
   "metadata": {},
   "source": [
    "#### 1.2: Calling from an Array"
   ]
  },
  {
   "cell_type": "code",
   "execution_count": 7,
   "metadata": {},
   "outputs": [
    {
     "name": "stdout",
     "output_type": "stream",
     "text": [
      "[4 5 6]\n"
     ]
    }
   ],
   "source": [
    "# If we want the second row, we just grab the index 1 object in the matrix:\n",
    "print(mat[1])"
   ]
  },
  {
   "cell_type": "code",
   "execution_count": 8,
   "metadata": {},
   "outputs": [
    {
     "name": "stdout",
     "output_type": "stream",
     "text": [
      "[[1 2 3]\n",
      " [4 5 6]]\n",
      "\n",
      "\n",
      "[[4 5 6]\n",
      " [7 8 9]]\n"
     ]
    }
   ],
   "source": [
    "# We can slice to get a subset of the rows:\n",
    "print(mat[:2])\n",
    "print(\"\\n\")\n",
    "print(mat[1:])"
   ]
  },
  {
   "cell_type": "code",
   "execution_count": 9,
   "metadata": {},
   "outputs": [
    {
     "name": "stdout",
     "output_type": "stream",
     "text": [
      "[[1 2 3]\n",
      " [7 8 9]]\n"
     ]
    }
   ],
   "source": [
    "# Note: if you want a disconnected collection, just feed in the list of indices:\n",
    "print(mat[[0,2]])\n",
    "# This returns the first and third rows"
   ]
  },
  {
   "cell_type": "code",
   "execution_count": 10,
   "metadata": {},
   "outputs": [
    {
     "name": "stdout",
     "output_type": "stream",
     "text": [
      "[[1 2 3]\n",
      " [4 5 6]\n",
      " [7 8 9]]\n"
     ]
    },
    {
     "data": {
      "text/plain": [
       "6"
      ]
     },
     "execution_count": 10,
     "metadata": {},
     "output_type": "execute_result"
    }
   ],
   "source": [
    "# We can pick entries by via mat[i,j] which takes the (i,j)-th entry of mat:\n",
    "print(mat)\n",
    "\n",
    "mat[1,2]"
   ]
  },
  {
   "cell_type": "code",
   "execution_count": 11,
   "metadata": {},
   "outputs": [
    {
     "name": "stdout",
     "output_type": "stream",
     "text": [
      "[3 6 9]\n"
     ]
    }
   ],
   "source": [
    "# We can take entire columns by using a colon to tell Python to range over all rows with the column fixed. \n",
    "print(mat[:,2])"
   ]
  },
  {
   "cell_type": "code",
   "execution_count": 12,
   "metadata": {},
   "outputs": [
    {
     "name": "stdout",
     "output_type": "stream",
     "text": [
      "[[1 2]\n",
      " [4 5]\n",
      " [7 8]]\n"
     ]
    }
   ],
   "source": [
    "# Python views singular columns as vectors, so that's why this is displayed as a row vector. This isn't the case if we\n",
    "# take more than one column:\n",
    "print(mat[:,0:2])"
   ]
  },
  {
   "cell_type": "code",
   "execution_count": 13,
   "metadata": {},
   "outputs": [
    {
     "name": "stdout",
     "output_type": "stream",
     "text": [
      "[[1 3]\n",
      " [4 6]\n",
      " [7 9]]\n"
     ]
    }
   ],
   "source": [
    "# Or, again, for a disconnected set of columns:\n",
    "print(mat[:,[0,2]])"
   ]
  },
  {
   "cell_type": "markdown",
   "metadata": {},
   "source": [
    "#### 1.3: Arange and Linspace"
   ]
  },
  {
   "cell_type": "code",
   "execution_count": 14,
   "metadata": {},
   "outputs": [],
   "source": [
    "# NumPy has a way of producing an array from a range, in one step. np.arange(start,end,step) will produce the vector \n",
    "# associated to range(start,end,step)."
   ]
  },
  {
   "cell_type": "code",
   "execution_count": 15,
   "metadata": {},
   "outputs": [
    {
     "data": {
      "text/plain": [
       "array([1, 4, 7])"
      ]
     },
     "execution_count": 15,
     "metadata": {},
     "output_type": "execute_result"
    }
   ],
   "source": [
    "np.arange(1,10,3)"
   ]
  },
  {
   "cell_type": "code",
   "execution_count": 16,
   "metadata": {},
   "outputs": [
    {
     "name": "stdout",
     "output_type": "stream",
     "text": [
      "[1 4 7]\n"
     ]
    }
   ],
   "source": [
    "# Of course, we can print this to see this as a vector:\n",
    "print(np.arange(1,10,3))"
   ]
  },
  {
   "cell_type": "code",
   "execution_count": 17,
   "metadata": {},
   "outputs": [
    {
     "name": "stdout",
     "output_type": "stream",
     "text": [
      "[0 1 2 3]\n"
     ]
    }
   ],
   "source": [
    "# np.arange with one argument just gives the vector from 0 to that number (exclusive) in steps of 1:\n",
    "print(np.arange(4))"
   ]
  },
  {
   "cell_type": "code",
   "execution_count": 18,
   "metadata": {},
   "outputs": [
    {
     "data": {
      "text/plain": [
       "array([2. , 2.8, 3.6, 4.4, 5.2, 6. ])"
      ]
     },
     "execution_count": 18,
     "metadata": {},
     "output_type": "execute_result"
    }
   ],
   "source": [
    "# As in Matlab, we can define linear spaces (arrays of equally distributed points) by specifying the start and end points,\n",
    "# along with the number of points (dimension of the vector)\n",
    "\n",
    "np.linspace(2,6,6)"
   ]
  },
  {
   "cell_type": "markdown",
   "metadata": {},
   "source": [
    "#### 1.4: Constant Arrays"
   ]
  },
  {
   "cell_type": "code",
   "execution_count": 19,
   "metadata": {},
   "outputs": [
    {
     "name": "stdout",
     "output_type": "stream",
     "text": [
      "[0. 0. 0. 0. 0.]\n"
     ]
    }
   ],
   "source": [
    "# We can use np.zeros() with one argument to produce a zero (row) vector, e.g.\n",
    "print(np.zeros(5))"
   ]
  },
  {
   "cell_type": "code",
   "execution_count": 20,
   "metadata": {},
   "outputs": [
    {
     "data": {
      "text/plain": [
       "array([[0., 0., 0., 0.],\n",
       "       [0., 0., 0., 0.],\n",
       "       [0., 0., 0., 0.]])"
      ]
     },
     "execution_count": 20,
     "metadata": {},
     "output_type": "execute_result"
    }
   ],
   "source": [
    "# For a zero matrix, we feed in a pair (note: the double parentheses)\n",
    "np.zeros((3,4))"
   ]
  },
  {
   "cell_type": "code",
   "execution_count": 21,
   "metadata": {},
   "outputs": [
    {
     "name": "stdout",
     "output_type": "stream",
     "text": [
      "[[0. 0. 0. 0.]\n",
      " [0. 0. 0. 0.]\n",
      " [0. 0. 0. 0.]]\n"
     ]
    }
   ],
   "source": [
    "print(np.zeros((3,4)))"
   ]
  },
  {
   "cell_type": "code",
   "execution_count": 22,
   "metadata": {},
   "outputs": [
    {
     "name": "stdout",
     "output_type": "stream",
     "text": [
      "[1. 1. 1. 1.] \n",
      "\n",
      "[[1. 1.]\n",
      " [1. 1.]\n",
      " [1. 1.]\n",
      " [1. 1.]]\n"
     ]
    }
   ],
   "source": [
    "# Similarly, np.ones() gives constant arrays of ones:\n",
    "print(np.ones(4), \"\\n\")\n",
    "print(np.ones((4,2)))"
   ]
  },
  {
   "cell_type": "code",
   "execution_count": 23,
   "metadata": {},
   "outputs": [
    {
     "name": "stdout",
     "output_type": "stream",
     "text": [
      "[[4. 4.]\n",
      " [4. 4.]\n",
      " [4. 4.]\n",
      " [4. 4.]] \n",
      "\n",
      "[[4. 4.]\n",
      " [4. 4.]\n",
      " [4. 4.]\n",
      " [4. 4.]]\n"
     ]
    }
   ],
   "source": [
    "# If we want other constant arrays, we can \"broadcast\" multiplication to the array of ones, or \"broadcast\" addition to the\n",
    "# array of zeroes:\n",
    "print(np.ones((4,2)) * 4, \"\\n\")\n",
    "print(np.zeros((4,2)) + 4)"
   ]
  },
  {
   "cell_type": "markdown",
   "metadata": {},
   "source": [
    "#### 1.5: Identity Matrix"
   ]
  },
  {
   "cell_type": "code",
   "execution_count": 24,
   "metadata": {},
   "outputs": [
    {
     "data": {
      "text/plain": [
       "array([[1., 0., 0., 0., 0.],\n",
       "       [0., 1., 0., 0., 0.],\n",
       "       [0., 0., 1., 0., 0.],\n",
       "       [0., 0., 0., 1., 0.],\n",
       "       [0., 0., 0., 0., 1.]])"
      ]
     },
     "execution_count": 24,
     "metadata": {},
     "output_type": "execute_result"
    }
   ],
   "source": [
    "# np.eye(n) produces the nxn identity matrix:\n",
    "np.eye(5)"
   ]
  },
  {
   "cell_type": "markdown",
   "metadata": {},
   "source": [
    "### Section 2: Random Matrices"
   ]
  },
  {
   "cell_type": "code",
   "execution_count": 25,
   "metadata": {},
   "outputs": [],
   "source": [
    " # The format is np.random.[distribution]()"
   ]
  },
  {
   "cell_type": "code",
   "execution_count": 26,
   "metadata": {},
   "outputs": [],
   "source": [
    "# Some options for distributions are:\n",
    "# -- rand (uniform random distribution on (0,1))\n",
    "# -- randn (standard normal distribution)\n",
    "# -- randint (random integers, but needs to extra arguments to determine the finite range of integers)"
   ]
  },
  {
   "cell_type": "code",
   "execution_count": 27,
   "metadata": {},
   "outputs": [
    {
     "name": "stdout",
     "output_type": "stream",
     "text": [
      "[0.98004265 0.37209359 0.45621219 0.85265525] \n",
      "\n",
      "[[0.66471977 0.3573711  0.87530761 0.46358525 0.98535909]\n",
      " [0.00119771 0.19729914 0.68787558 0.06066785 0.47804527]\n",
      " [0.48688407 0.03295954 0.45479626 0.13750471 0.09202598]\n",
      " [0.18294424 0.0988233  0.19139279 0.32364974 0.44978898]] \n",
      "\n"
     ]
    }
   ],
   "source": [
    "# Uniform Random Distribution\n",
    "print(np.random.rand(4), \"\\n\")\n",
    "print(np.random.rand(4,5), \"\\n\")"
   ]
  },
  {
   "cell_type": "code",
   "execution_count": 28,
   "metadata": {},
   "outputs": [
    {
     "name": "stdout",
     "output_type": "stream",
     "text": [
      "[-0.24868983 -0.6763544  -0.35944302 -0.45574247] \n",
      "\n",
      "[[ 1.16404727e+00  1.23277123e+00  6.65165996e-01 -1.14144277e-01\n",
      "   9.17411989e-01]\n",
      " [-4.50970432e-01 -4.71509093e-01  1.59733225e+00 -1.61936430e-01\n",
      "   3.23553505e-01]\n",
      " [ 1.45114389e-01  2.15699412e-01 -1.01356404e-01  1.57635809e-03\n",
      "  -7.81941760e-01]\n",
      " [-1.37404648e+00  6.72279443e-01 -1.26891251e+00  3.54118980e-01\n",
      "  -1.47161308e+00]] \n",
      "\n"
     ]
    }
   ],
   "source": [
    "# Standard Normal Distribution\n",
    "print(np.random.randn(4), \"\\n\")\n",
    "print(np.random.randn(4,5), \"\\n\")"
   ]
  },
  {
   "cell_type": "code",
   "execution_count": 29,
   "metadata": {},
   "outputs": [
    {
     "name": "stdout",
     "output_type": "stream",
     "text": [
      "[2 6 7 4 6] \n",
      "\n",
      "[[8 4]\n",
      " [4 3]\n",
      " [9 3]] \n",
      "\n",
      "4\n"
     ]
    }
   ],
   "source": [
    "# Random Integers \n",
    "print(np.random.randint(2,10,5), \"\\n\")\n",
    "print(np.random.randint(2,10,(3,2)), \"\\n\")\n",
    "# Note: We can't attain 10, in line with everything else we've seen.\n",
    "\n",
    "# If one just includes two arguments, this will return a single random integer in the given range:\n",
    "print(np.random.randint(2,10))"
   ]
  },
  {
   "cell_type": "code",
   "execution_count": 30,
   "metadata": {},
   "outputs": [
    {
     "data": {
      "text/plain": [
       "array([[4, 7, 4],\n",
       "       [8, 7, 9]])"
      ]
     },
     "execution_count": 30,
     "metadata": {},
     "output_type": "execute_result"
    }
   ],
   "source": [
    "# NOTE: If using a particular random distribution a lot, import it directly from NumPy to remove the need for the\n",
    "# \"numpy.random.\" in al of the above. E.g.,\n",
    "\n",
    "from numpy.random import randint\n",
    "\n",
    "randint(1,11,(2,3))"
   ]
  },
  {
   "cell_type": "markdown",
   "metadata": {},
   "source": [
    "### Section 3: Methods and Operations on Matrices"
   ]
  },
  {
   "cell_type": "markdown",
   "metadata": {},
   "source": [
    "#### 3.1: Reshape, Max/Min, Argmax/Argmin, Shape, dType, Standard Deviation, and Mean"
   ]
  },
  {
   "cell_type": "code",
   "execution_count": 31,
   "metadata": {},
   "outputs": [],
   "source": [
    "# RESHAPE\n",
    "# Given an array that is m-by-n, and any pair (s,t) such that st=mn, one can reshape the the array into an s-by-t array.\n",
    "# (this just reads along the rows)"
   ]
  },
  {
   "cell_type": "code",
   "execution_count": 32,
   "metadata": {},
   "outputs": [
    {
     "name": "stdout",
     "output_type": "stream",
     "text": [
      "[[ 1  2  3  4]\n",
      " [ 5  6  7  8]\n",
      " [ 9 10 11 12]] \n",
      "\n",
      "[[ 1  2  3]\n",
      " [ 4  5  6]\n",
      " [ 7  8  9]\n",
      " [10 11 12]] \n",
      "\n",
      "[[ 1  2  3  4  5  6]\n",
      " [ 7  8  9 10 11 12]] \n",
      "\n"
     ]
    }
   ],
   "source": [
    "mat = np.array([[1,2,3,4],[5,6,7,8],[9,10,11,12]])\n",
    "print(mat,\"\\n\")\n",
    "print(mat.reshape(4,3),\"\\n\")\n",
    "print(mat.reshape(2,6),\"\\n\")"
   ]
  },
  {
   "cell_type": "code",
   "execution_count": 33,
   "metadata": {},
   "outputs": [
    {
     "data": {
      "text/plain": [
       "array([[ 1,  2,  3,  4],\n",
       "       [ 5,  6,  7,  8],\n",
       "       [ 9, 10, 11, 12]])"
      ]
     },
     "execution_count": 33,
     "metadata": {},
     "output_type": "execute_result"
    }
   ],
   "source": [
    "# In the above, we could have constructed the original array by reshaping a vector:\n",
    "np.arange(1,13).reshape(3,4)"
   ]
  },
  {
   "cell_type": "code",
   "execution_count": 34,
   "metadata": {},
   "outputs": [
    {
     "data": {
      "text/plain": [
       "12"
      ]
     },
     "execution_count": 34,
     "metadata": {},
     "output_type": "execute_result"
    }
   ],
   "source": [
    "# MAX returns the maximum entry in the array\n",
    "np.max(mat)"
   ]
  },
  {
   "cell_type": "code",
   "execution_count": 35,
   "metadata": {},
   "outputs": [
    {
     "name": "stdout",
     "output_type": "stream",
     "text": [
      "[ 9 10 11 12]\n",
      "[ 4  8 12]\n"
     ]
    }
   ],
   "source": [
    "# We can specify the axis for max, to return max cols or rows:\n",
    "print(np.max(mat,axis=0)) ## Gives maxima for each column\n",
    "print(np.max(mat,axis=1)) ## Gives maxima for each row"
   ]
  },
  {
   "cell_type": "code",
   "execution_count": 36,
   "metadata": {},
   "outputs": [
    {
     "data": {
      "text/plain": [
       "array([ 9, 10, 11, 12])"
      ]
     },
     "execution_count": 36,
     "metadata": {},
     "output_type": "execute_result"
    }
   ],
   "source": [
    "# One can also use max as a method:\n",
    "mat.max(axis=0)"
   ]
  },
  {
   "cell_type": "code",
   "execution_count": 37,
   "metadata": {},
   "outputs": [
    {
     "data": {
      "text/plain": [
       "11"
      ]
     },
     "execution_count": 37,
     "metadata": {},
     "output_type": "execute_result"
    }
   ],
   "source": [
    "#argmax/argmin returns the location of the max/min\n",
    "mat.argmax()"
   ]
  },
  {
   "cell_type": "code",
   "execution_count": 38,
   "metadata": {},
   "outputs": [
    {
     "data": {
      "text/plain": [
       "(3, 4)"
      ]
     },
     "execution_count": 38,
     "metadata": {},
     "output_type": "execute_result"
    }
   ],
   "source": [
    "# Shape gives the shape (dimensions) of the array\n",
    "mat.shape"
   ]
  },
  {
   "cell_type": "code",
   "execution_count": 39,
   "metadata": {},
   "outputs": [
    {
     "data": {
      "text/plain": [
       "dtype('int32')"
      ]
     },
     "execution_count": 39,
     "metadata": {},
     "output_type": "execute_result"
    }
   ],
   "source": [
    "# dtype gives the data type for the array:\n",
    "mat.dtype\n",
    "# In our example, we have 32-bit integers"
   ]
  },
  {
   "cell_type": "code",
   "execution_count": 40,
   "metadata": {},
   "outputs": [
    {
     "name": "stdout",
     "output_type": "stream",
     "text": [
      "3.452052529534663\n",
      "6.5\n"
     ]
    }
   ],
   "source": [
    "# One also has statistical methods:\n",
    "print(mat.std())\n",
    "print(mat.mean())"
   ]
  },
  {
   "cell_type": "markdown",
   "metadata": {},
   "source": [
    "#### 3.2: Matrix Operations"
   ]
  },
  {
   "cell_type": "code",
   "execution_count": 41,
   "metadata": {},
   "outputs": [],
   "source": [
    "# Addition, Subtraction, Multiplication, Division and Exponentiation are all given entry-wise:"
   ]
  },
  {
   "cell_type": "code",
   "execution_count": 42,
   "metadata": {},
   "outputs": [
    {
     "name": "stdout",
     "output_type": "stream",
     "text": [
      "[[1 2 3]\n",
      " [4 5 6]\n",
      " [1 3 6]] \n",
      "\n",
      "[[2 1 0]\n",
      " [1 1 1]\n",
      " [2 2 2]] \n",
      "\n",
      "[[3 3 3]\n",
      " [5 6 7]\n",
      " [3 5 8]] \n",
      "\n",
      "[[ 2  2  0]\n",
      " [ 4  5  6]\n",
      " [ 2  6 12]] \n",
      "\n",
      "[[0.5 2.  inf]\n",
      " [4.  5.  6. ]\n",
      " [0.5 1.5 3. ]] \n",
      "\n",
      "[[ 1  2  1]\n",
      " [ 4  5  6]\n",
      " [ 1  9 36]]\n"
     ]
    },
    {
     "name": "stderr",
     "output_type": "stream",
     "text": [
      "<ipython-input-42-d8b2085fa211>:7: RuntimeWarning: divide by zero encountered in true_divide\n",
      "  print(mat1/mat2,\"\\n\")\n"
     ]
    }
   ],
   "source": [
    "mat1 = np.array([[1,2,3],[4,5,6],[1,3,6]])\n",
    "mat2 = np.array([[2,1,0],[1,1,1],[2,2,2]])\n",
    "print(mat1,\"\\n\")\n",
    "print(mat2,\"\\n\")\n",
    "print(mat1+mat2,\"\\n\")\n",
    "print(mat1*mat2,\"\\n\")\n",
    "print(mat1/mat2,\"\\n\")\n",
    "print(mat1**mat2)"
   ]
  },
  {
   "cell_type": "code",
   "execution_count": 43,
   "metadata": {},
   "outputs": [
    {
     "name": "stdout",
     "output_type": "stream",
     "text": [
      "[[1 2 3]\n",
      " [4 5 6]\n",
      " [1 3 6]] \n",
      "\n",
      "[[ 3  6  9]\n",
      " [12 15 18]\n",
      " [ 3  9 18]] \n",
      "\n",
      "[[3 4 5]\n",
      " [6 7 8]\n",
      " [3 5 8]] \n",
      "\n"
     ]
    }
   ],
   "source": [
    "# One can also perform these with scalars. The operations then \"broadcast\" to all entries:\n",
    "print(mat1,\"\\n\")\n",
    "print(mat1 * 3,\"\\n\")\n",
    "print(mat1 + 2,\"\\n\")"
   ]
  },
  {
   "cell_type": "code",
   "execution_count": 44,
   "metadata": {},
   "outputs": [
    {
     "name": "stdout",
     "output_type": "stream",
     "text": [
      "[[ -2  -2   2  -3]\n",
      " [  5  -1  -6  -7]\n",
      " [  3  -3   6 -10]\n",
      " [ -3   1  -7   6]]\n"
     ]
    },
    {
     "data": {
      "text/plain": [
       "array([[False, False, False, False],\n",
       "       [ True, False, False, False],\n",
       "       [ True, False,  True, False],\n",
       "       [False, False, False,  True]])"
      ]
     },
     "execution_count": 44,
     "metadata": {},
     "output_type": "execute_result"
    }
   ],
   "source": [
    "# Booleans can also be cast to an array:\n",
    "rmat = randint(-10,11,(4,4))\n",
    "print(rmat)\n",
    "rmat>2 # returns a matrix of booleans with True entries if and only if the entry satisfies the boolean."
   ]
  },
  {
   "cell_type": "code",
   "execution_count": 45,
   "metadata": {},
   "outputs": [
    {
     "data": {
      "text/plain": [
       "array([5, 3, 6, 6])"
      ]
     },
     "execution_count": 45,
     "metadata": {},
     "output_type": "execute_result"
    }
   ],
   "source": [
    "# We can feed this boolean array back into the matrix to return the vector of all entries in the original array that satisfy\n",
    "# the boolean:\n",
    "rmat[rmat>2]"
   ]
  },
  {
   "cell_type": "markdown",
   "metadata": {},
   "source": [
    "### Section 4: Working with Slices"
   ]
  },
  {
   "cell_type": "code",
   "execution_count": 46,
   "metadata": {},
   "outputs": [
    {
     "name": "stdout",
     "output_type": "stream",
     "text": [
      "[ 0  1  2  3  4  5  6  7  8  9 10]\n"
     ]
    }
   ],
   "source": [
    "# Caveat!: Let's define a matrix (in fact, for simplicity, let's take a vector):\n",
    "vect = np.arange(11)\n",
    "print(vect)"
   ]
  },
  {
   "cell_type": "code",
   "execution_count": 47,
   "metadata": {},
   "outputs": [
    {
     "name": "stdout",
     "output_type": "stream",
     "text": [
      "[3 4 5 6 7]\n"
     ]
    }
   ],
   "source": [
    "# If we define a new vector as a slice of \"vect\"\n",
    "vect2 = vect[3:8]\n",
    "print(vect2)"
   ]
  },
  {
   "cell_type": "code",
   "execution_count": 48,
   "metadata": {},
   "outputs": [
    {
     "name": "stdout",
     "output_type": "stream",
     "text": [
      "[ 3  0  5 -5  7]\n"
     ]
    }
   ],
   "source": [
    "# and then perform an operation reassigning values in vect2:\n",
    "vect2[1]=0\n",
    "vect2[3]=-5\n",
    "print(vect2)"
   ]
  },
  {
   "cell_type": "code",
   "execution_count": 49,
   "metadata": {},
   "outputs": [
    {
     "data": {
      "text/plain": [
       "array([ 0,  1,  2,  3,  0,  5, -5,  7,  8,  9, 10])"
      ]
     },
     "execution_count": 49,
     "metadata": {},
     "output_type": "execute_result"
    }
   ],
   "source": [
    "# then observe what happens when we return to vect:\n",
    "vect"
   ]
  },
  {
   "cell_type": "code",
   "execution_count": 50,
   "metadata": {},
   "outputs": [
    {
     "name": "stdout",
     "output_type": "stream",
     "text": [
      "[ 0  1  2  3  4  5  6  7  8  9 10]\n",
      "[3 4 5 6 7]\n",
      "[ 3  0  5 -5  7]\n",
      "[ 0  1  2  3  4  5  6  7  8  9 10]\n"
     ]
    }
   ],
   "source": [
    "# We see that the entries of vect2 were linked to those of vect. To get around this, use the \"copy\" method:\n",
    "vect = np.arange(11)\n",
    "print(vect)\n",
    "vect2 = vect[3:8].copy()\n",
    "print(vect2)\n",
    "vect2[1]=0\n",
    "vect2[3]=-5\n",
    "print(vect2)\n",
    "print(vect)"
   ]
  },
  {
   "cell_type": "code",
   "execution_count": 51,
   "metadata": {},
   "outputs": [],
   "source": [
    "# We see that vect was left unchanged!"
   ]
  }
 ],
 "metadata": {
  "kernelspec": {
   "display_name": "Python 3",
   "language": "python",
   "name": "python3"
  },
  "language_info": {
   "codemirror_mode": {
    "name": "ipython",
    "version": 3
   },
   "file_extension": ".py",
   "mimetype": "text/x-python",
   "name": "python",
   "nbconvert_exporter": "python",
   "pygments_lexer": "ipython3",
   "version": "3.8.3"
  }
 },
 "nbformat": 4,
 "nbformat_minor": 4
}
